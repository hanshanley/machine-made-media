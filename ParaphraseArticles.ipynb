{
 "cells": [
  {
   "cell_type": "code",
   "execution_count": 3,
   "id": "93262ac5",
   "metadata": {},
   "outputs": [],
   "source": [
    "## Dipper Paraphraser Model \n",
    "## Code taken from https://huggingface.co/kalpeshk2011/dipper-paraphraser-xxl\n",
    "class DipperParaphraser(object):\n",
    "    def __init__(self, model=\"kalpeshk2011/dipper-paraphraser-xxl\", verbose=True):\n",
    "        time1 = time.time()\n",
    "        self.tokenizer = T5Tokenizer.from_pretrained('google/t5-v1_1-xxl',cache_dir = 'cache')\n",
    "        self.model = T5ForConditionalGeneration.from_pretrained(model,cache_dir = 'cache')\n",
    "        if verbose:\n",
    "            print(f\"{model} model loaded in {time.time() - time1}\")\n",
    "        self.model.cuda()\n",
    "        self.model.eval()\n",
    "\n",
    "    def paraphrase(self, input_text, lex_diversity, order_diversity, prefix=\"\", sent_interval=3, **kwargs):\n",
    "        \"\"\"Paraphrase a text using the DIPPER model.\n",
    "\n",
    "        Args:\n",
    "            input_text (str): The text to paraphrase. Make sure to mark the sentence to be paraphrased between <sent> and </sent> blocks, keeping space on either side.\n",
    "            lex_diversity (int): The lexical diversity of the output, choose multiples of 20 from 0 to 100. 0 means no diversity, 100 means maximum diversity.\n",
    "            order_diversity (int): The order diversity of the output, choose multiples of 20 from 0 to 100. 0 means no diversity, 100 means maximum diversity.\n",
    "            **kwargs: Additional keyword arguments like top_p, top_k, max_length.\n",
    "        \"\"\"\n",
    "        assert lex_diversity in [0, 20, 40, 60, 80, 100], \"Lexical diversity must be one of 0, 20, 40, 60, 80, 100.\"\n",
    "        assert order_diversity in [0, 20, 40, 60, 80, 100], \"Order diversity must be one of 0, 20, 40, 60, 80, 100.\"\n",
    "\n",
    "        lex_code = int(100 - lex_diversity)\n",
    "        order_code = int(100 - order_diversity)\n",
    "\n",
    "        input_text = \" \".join(input_text.split())\n",
    "        sentences = sent_tokenize(input_text)\n",
    "        prefix = \" \".join(prefix.replace(\"\\n\", \" \").split())\n",
    "        output_text = \"\"\n",
    "\n",
    "        for sent_idx in range(0, len(sentences), sent_interval):\n",
    "            curr_sent_window = \" \".join(sentences[sent_idx:sent_idx + sent_interval])\n",
    "            final_input_text = f\"lexical = {lex_code}, order = {order_code}\"\n",
    "            if prefix:\n",
    "                final_input_text += f\" {prefix}\"\n",
    "            final_input_text += f\" <sent> {curr_sent_window} </sent>\"\n",
    "\n",
    "            final_input = self.tokenizer([final_input_text], return_tensors=\"pt\")\n",
    "            final_input = {k: v.cuda() for k, v in final_input.items()}\n",
    "\n",
    "            with torch.inference_mode():\n",
    "                outputs = self.model.generate(**final_input, **kwargs)\n",
    "            outputs = self.tokenizer.batch_decode(outputs, skip_special_tokens=True)\n",
    "            prefix += \" \" + outputs[0]\n",
    "            output_text += \" \" + outputs[0]\n",
    "\n",
    "        return output_text"
   ]
  },
  {
   "cell_type": "code",
   "execution_count": 4,
   "id": "ad8378fe",
   "metadata": {},
   "outputs": [
    {
     "name": "stdout",
     "output_type": "stream",
     "text": [
      "Requirement already satisfied: torch in /home/hhanley/miniconda3/lib/python3.9/site-packages (1.11.0+cu113)\n",
      "Requirement already satisfied: transformers in /home/hhanley/miniconda3/lib/python3.9/site-packages (4.23.1)\n",
      "Requirement already satisfied: sklearn in /home/hhanley/miniconda3/lib/python3.9/site-packages (0.0.post5)\n",
      "Requirement already satisfied: nltk in /home/hhanley/miniconda3/lib/python3.9/site-packages (3.7)\n",
      "Requirement already satisfied: typing-extensions in /home/hhanley/miniconda3/lib/python3.9/site-packages (from torch) (4.5.0)\n",
      "Requirement already satisfied: numpy>=1.17 in /home/hhanley/miniconda3/lib/python3.9/site-packages (from transformers) (1.24.3)\n",
      "Requirement already satisfied: packaging>=20.0 in /home/hhanley/miniconda3/lib/python3.9/site-packages (from transformers) (23.1)\n",
      "Requirement already satisfied: huggingface-hub<1.0,>=0.10.0 in /home/hhanley/miniconda3/lib/python3.9/site-packages (from transformers) (0.10.1)\n",
      "Requirement already satisfied: regex!=2019.12.17 in /home/hhanley/miniconda3/lib/python3.9/site-packages (from transformers) (2022.3.2)\n",
      "Requirement already satisfied: requests in /home/hhanley/miniconda3/lib/python3.9/site-packages (from transformers) (2.28.1)\n",
      "Requirement already satisfied: pyyaml>=5.1 in /home/hhanley/miniconda3/lib/python3.9/site-packages (from transformers) (6.0)\n",
      "Requirement already satisfied: tqdm>=4.27 in /home/hhanley/miniconda3/lib/python3.9/site-packages (from transformers) (4.64.1)\n",
      "Requirement already satisfied: filelock in /home/hhanley/miniconda3/lib/python3.9/site-packages (from transformers) (3.9.0)\n",
      "Requirement already satisfied: tokenizers!=0.11.3,<0.14,>=0.11.1 in /home/hhanley/miniconda3/lib/python3.9/site-packages (from transformers) (0.13.1)\n",
      "Requirement already satisfied: joblib in /home/hhanley/miniconda3/lib/python3.9/site-packages (from nltk) (1.2.0)\n",
      "Requirement already satisfied: click in /home/hhanley/miniconda3/lib/python3.9/site-packages (from nltk) (8.1.3)\n",
      "Requirement already satisfied: charset-normalizer<3,>=2 in /home/hhanley/miniconda3/lib/python3.9/site-packages (from requests->transformers) (2.1.1)\n",
      "Requirement already satisfied: certifi>=2017.4.17 in /home/hhanley/miniconda3/lib/python3.9/site-packages (from requests->transformers) (2023.5.7)\n",
      "Requirement already satisfied: urllib3<1.27,>=1.21.1 in /home/hhanley/miniconda3/lib/python3.9/site-packages (from requests->transformers) (1.26.14)\n",
      "Requirement already satisfied: idna<4,>=2.5 in /home/hhanley/miniconda3/lib/python3.9/site-packages (from requests->transformers) (3.4)\n",
      "Obtaining file:///mnt/projects/qanon_proj/RobustCrawl/GPT\n",
      "\u001b[31mERROR: file:///mnt/projects/qanon_proj/RobustCrawl/GPT does not appear to be a Python project: neither 'setup.py' nor 'pyproject.toml' found.\u001b[0m\u001b[31m\n",
      "\u001b[0m"
     ]
    }
   ],
   "source": [
    "!pip install torch transformers sklearn nltk\n",
    "!pip install --editable ."
   ]
  },
  {
   "cell_type": "code",
   "execution_count": 5,
   "id": "e9d65934",
   "metadata": {},
   "outputs": [],
   "source": [
    "from transformers import T5ForConditionalGeneration,T5Tokenizer\n",
    "from nltk.tokenize import sent_tokenize\n",
    "import torch\n",
    "from transformers import T5ForConditionalGeneration\n",
    "tokenizer = T5Tokenizer.from_pretrained('google/t5-v1_1-xxl',cache_dir='cache') ## Load in Tokenizer for model "
   ]
  },
  {
   "cell_type": "code",
   "execution_count": null,
   "id": "eb66ad3f",
   "metadata": {},
   "outputs": [],
   "source": [
    "model =  T5ForConditionalGeneration.from_pretrained('kalpeshk2011/dipper-paraphraser-xxl',cache_dir='cache') ## Load in Paraphrasing Model \n",
    "device = torch.device('cuda')\n",
    "model = model.to(device)"
   ]
  },
  {
   "cell_type": "code",
   "execution_count": null,
   "id": "c8906caa-c10f-4d0a-84a2-6bd3cac31062",
   "metadata": {},
   "outputs": [],
   "source": [
    "## Dipper Paraphraser Model \n",
    "## Code adapted from https://huggingface.co/kalpeshk2011/dipper-paraphraser-xxl\n",
    "## input_text: input text that is paraphrased\n",
    "## lex_diversity: Lexical diversity of paraphrased output. See https://arxiv.org/pdf/2303.13408.pdf\n",
    "## order_diversity: Order diversity of paraphrased output. See https://arxiv.org/pdf/2303.13408.pdf\n",
    "## top_p: p-value for p-sampling\n",
    "## max_length: maximum length for sampling\n",
    "## sent_interval: the number of sentences to parapghrase per iteration\n",
    "def create_paraphrase(input_text,lex_diversity=60,order_diversity=0,top_p=0.75,max_length=512,sent_interval = 3):\n",
    "    lex_code = int(100 - lex_diversity)\n",
    "    order_code = int(100 - order_diversity)\n",
    "    prefix = ''\n",
    "    input_text = \" \".join(input_text.split())\n",
    "    sentences = sent_tokenize(input_text)\n",
    "    output_text = \"\"\n",
    "\n",
    "    for sent_idx in range(0, len(sentences), sent_interval):\n",
    "        curr_sent_window = \" \".join(sentences[sent_idx:sent_idx + sent_interval])\n",
    "        final_input_text = f\"lexical = {lex_code}, order = {order_code}\"\n",
    "        final_input_text += f\" <sent> {curr_sent_window} </sent>\"\n",
    "\n",
    "        final_input = tokenizer([final_input_text], return_tensors=\"pt\")\n",
    "        final_input = {k: v.cuda() for k, v in final_input.items()}\n",
    "\n",
    "        with torch.inference_mode():\n",
    "            outputs = model.generate(**final_input,do_sample=True,top_p=top_p,max_length=max_length)\n",
    "        outputs = tokenizer.batch_decode(outputs, skip_special_tokens=True)\n",
    "        prefix += \" \" + outputs[0]\n",
    "        output_text += \" \" + outputs[0]\n",
    "    return output_text"
   ]
  },
  {
   "cell_type": "code",
   "execution_count": 30,
   "id": "01d62eb2",
   "metadata": {},
   "outputs": [],
   "source": []
  },
  {
   "cell_type": "code",
   "execution_count": 46,
   "id": "d451523a",
   "metadata": {},
   "outputs": [],
   "source": []
  },
  {
   "cell_type": "code",
   "execution_count": null,
   "id": "8ef01691",
   "metadata": {},
   "outputs": [],
   "source": []
  }
 ],
 "metadata": {
  "kernelspec": {
   "display_name": "Python 3 (ipykernel)",
   "language": "python",
   "name": "python3"
  },
  "language_info": {
   "codemirror_mode": {
    "name": "ipython",
    "version": 3
   },
   "file_extension": ".py",
   "mimetype": "text/x-python",
   "name": "python",
   "nbconvert_exporter": "python",
   "pygments_lexer": "ipython3",
   "version": "3.10.12"
  }
 },
 "nbformat": 4,
 "nbformat_minor": 5
}
